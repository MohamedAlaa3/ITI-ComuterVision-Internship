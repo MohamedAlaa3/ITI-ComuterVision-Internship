{
 "cells": [
  {
   "cell_type": "markdown",
   "metadata": {},
   "source": [
    "Q5- Accept the marked price from the user and calculate the Net amount as(Marked Price –\n",
    "Discount) to pay according to following criteria:"
   ]
  },
  {
   "cell_type": "code",
   "execution_count": 8,
   "metadata": {},
   "outputs": [
    {
     "name": "stdout",
     "output_type": "stream",
     "text": [
      "6800.0\n"
     ]
    }
   ],
   "source": [
    "input1= int (input())\n",
    "if input1> 10000:\n",
    "    input1=input1*.8\n",
    "elif input1>7000 and input1<=10000:\n",
    "    input1=input1*.85\n",
    "else:\n",
    "    input1=input1*.9\n",
    "print(input1)   "
   ]
  }
 ],
 "metadata": {
  "kernelspec": {
   "display_name": "Python 3.9.7 ('base')",
   "language": "python",
   "name": "python3"
  },
  "language_info": {
   "codemirror_mode": {
    "name": "ipython",
    "version": 3
   },
   "file_extension": ".py",
   "mimetype": "text/x-python",
   "name": "python",
   "nbconvert_exporter": "python",
   "pygments_lexer": "ipython3",
   "version": "3.9.7"
  },
  "orig_nbformat": 4,
  "vscode": {
   "interpreter": {
    "hash": "c292393aed7afb63e607e18fc9f32342f268475c7ca7381e1f42eb6487043ea4"
   }
  }
 },
 "nbformat": 4,
 "nbformat_minor": 2
}

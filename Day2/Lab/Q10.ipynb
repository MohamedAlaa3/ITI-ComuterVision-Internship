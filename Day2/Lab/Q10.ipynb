{
 "cells": [
  {
   "cell_type": "markdown",
   "metadata": {},
   "source": [
    "Q10- Make Method to Return the Maximum and Minimum item from the given list."
   ]
  },
  {
   "cell_type": "code",
   "execution_count": 2,
   "metadata": {},
   "outputs": [],
   "source": [
    "def maxAndmin(l):\n",
    "    max=-9999999\n",
    "    min=9999999999\n",
    "    for a in l:\n",
    "        if a>max:\n",
    "            max=a\n",
    "        if a<min:\n",
    "            min=a\n",
    "    return max,min"
   ]
  },
  {
   "cell_type": "code",
   "execution_count": 3,
   "metadata": {},
   "outputs": [
    {
     "name": "stdout",
     "output_type": "stream",
     "text": [
      "300 10\n"
     ]
    }
   ],
   "source": [
    "lst=[100,30,22,40,60,20,10,300]\n",
    "max,min=maxAndmin(lst)\n",
    "print(max,min)"
   ]
  }
 ],
 "metadata": {
  "kernelspec": {
   "display_name": "Python 3.9.7 ('base')",
   "language": "python",
   "name": "python3"
  },
  "language_info": {
   "codemirror_mode": {
    "name": "ipython",
    "version": 3
   },
   "file_extension": ".py",
   "mimetype": "text/x-python",
   "name": "python",
   "nbconvert_exporter": "python",
   "pygments_lexer": "ipython3",
   "version": "3.9.7"
  },
  "orig_nbformat": 4,
  "vscode": {
   "interpreter": {
    "hash": "c292393aed7afb63e607e18fc9f32342f268475c7ca7381e1f42eb6487043ea4"
   }
  }
 },
 "nbformat": 4,
 "nbformat_minor": 2
}

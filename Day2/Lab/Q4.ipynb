{
 "cells": [
  {
   "cell_type": "markdown",
   "metadata": {},
   "source": [
    "Q4- Write a program to check a character is vowel or not."
   ]
  },
  {
   "cell_type": "code",
   "execution_count": 5,
   "metadata": {},
   "outputs": [],
   "source": [
    "#'a', 'e', 'i', 'o' and 'u'\n",
    "vowel=['a','e','i','o','u']\n",
    "input1= input()\n",
    "input1=input1.lower()\n",
    "for a in vowel:\n",
    "    if input1 == a:\n",
    "        print(\"vowel\")\n",
    "        break\n"
   ]
  }
 ],
 "metadata": {
  "kernelspec": {
   "display_name": "Python 3.9.7 ('base')",
   "language": "python",
   "name": "python3"
  },
  "language_info": {
   "codemirror_mode": {
    "name": "ipython",
    "version": 3
   },
   "file_extension": ".py",
   "mimetype": "text/x-python",
   "name": "python",
   "nbconvert_exporter": "python",
   "pygments_lexer": "ipython3",
   "version": "3.9.7"
  },
  "orig_nbformat": 4,
  "vscode": {
   "interpreter": {
    "hash": "c292393aed7afb63e607e18fc9f32342f268475c7ca7381e1f42eb6487043ea4"
   }
  }
 },
 "nbformat": 4,
 "nbformat_minor": 2
}

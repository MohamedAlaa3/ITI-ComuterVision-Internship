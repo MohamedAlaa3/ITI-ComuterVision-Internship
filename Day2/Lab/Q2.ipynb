{
 "cells": [
  {
   "cell_type": "markdown",
   "metadata": {},
   "source": [
    "Q2- Write a program to check whether the last digit of a number( entered by user ) is divisible by 3 or not."
   ]
  },
  {
   "cell_type": "code",
   "execution_count": 6,
   "metadata": {},
   "outputs": [
    {
     "name": "stdout",
     "output_type": "stream",
     "text": [
      "not divisible by 3\n"
     ]
    }
   ],
   "source": [
    "input1= input()\n",
    "if input1.isdigit():\n",
    "    last_d= int(input1[-1])%3\n",
    "    if last_d==0:\n",
    "        print(\"divisible by 3\")\n",
    "    else:\n",
    "        print(\"not divisible by 3\")\n",
    "    \n"
   ]
  }
 ],
 "metadata": {
  "kernelspec": {
   "display_name": "Python 3.9.7 ('base')",
   "language": "python",
   "name": "python3"
  },
  "language_info": {
   "codemirror_mode": {
    "name": "ipython",
    "version": 3
   },
   "file_extension": ".py",
   "mimetype": "text/x-python",
   "name": "python",
   "nbconvert_exporter": "python",
   "pygments_lexer": "ipython3",
   "version": "3.9.7"
  },
  "orig_nbformat": 4,
  "vscode": {
   "interpreter": {
    "hash": "c292393aed7afb63e607e18fc9f32342f268475c7ca7381e1f42eb6487043ea4"
   }
  }
 },
 "nbformat": 4,
 "nbformat_minor": 2
}

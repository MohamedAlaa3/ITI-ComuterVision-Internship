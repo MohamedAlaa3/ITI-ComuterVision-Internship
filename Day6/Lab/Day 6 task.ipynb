{
 "cells": [
  {
   "cell_type": "markdown",
   "metadata": {},
   "source": [
    "Q1- Create image 256*256 Draw red square 50*50 in the center of blue circle with\n",
    "radius 80 the center of both square and circle is the same center of image."
   ]
  },
  {
   "cell_type": "code",
   "execution_count": 3,
   "metadata": {},
   "outputs": [],
   "source": [
    "import cv2 as cv\n",
    "import numpy as np\n",
    "from matplotlib import pyplot as plt"
   ]
  },
  {
   "cell_type": "code",
   "execution_count": 5,
   "metadata": {},
   "outputs": [
    {
     "data": {
      "text/plain": [
       "<matplotlib.image.AxesImage at 0x295cdbde100>"
      ]
     },
     "execution_count": 5,
     "metadata": {},
     "output_type": "execute_result"
    },
    {
     "data": {
      "image/png": "[encoded data removed]",
      "text/plain": [
       "<Figure size 432x288 with 1 Axes>"
      ]
     },
     "metadata": {
      "needs_background": "light"
     },
     "output_type": "display_data"
    }
   ],
   "source": [
    "img=np.zeros((256,256,3),np.uint8)\n",
    "cv.rectangle(img,(78,78),(178,178),(255,0,0),3)\n",
    "cv.circle(img,(128,128),80,(0,0,255),2)\n",
    "plt.imshow(img)"
   ]
  },
  {
   "cell_type": "markdown",
   "metadata": {},
   "source": [
    "Q2make trackbar to control line position ,color and thickness in image 500*500\n",
    "rgb."
   ]
  },
  {
   "cell_type": "code",
   "execution_count": 13,
   "metadata": {},
   "outputs": [],
   "source": [
    "\n",
    "cv.namedWindow('image')\n",
    "\n",
    "\n",
    "def nothing(x):\n",
    "    pass\n",
    "\n",
    "\n",
    "cv.createTrackbar('x1', 'image', 0, 499, nothing)\n",
    "cv.createTrackbar('x2', 'image', 0, 499, nothing)\n",
    "cv.createTrackbar('y1', 'image', 0, 499, nothing)\n",
    "cv.createTrackbar('y2', 'image', 0, 499, nothing)\n",
    "cv.createTrackbar('thk', 'image', 1, 10, nothing)\n",
    "cv.createTrackbar('R', 'image', 0, 255, nothing)\n",
    "cv.createTrackbar('B', 'image', 0, 255, nothing)\n",
    "cv.createTrackbar('G', 'image', 0, 255, nothing)\n",
    "\n",
    "while True:\n",
    "    img = np.zeros((500, 500, 3), np.uint8)\n",
    "    x1 = cv.getTrackbarPos('x1', 'image')\n",
    "    x2 = cv.getTrackbarPos('x2', 'image')\n",
    "    y1 = cv.getTrackbarPos('y1', 'image')\n",
    "    y2 = cv.getTrackbarPos('y2', 'image')\n",
    "    thk = cv.getTrackbarPos('thk', 'image')\n",
    "    R = cv.getTrackbarPos('R', 'image')\n",
    "    B = cv.getTrackbarPos('G', 'image')\n",
    "    G = cv.getTrackbarPos('B', 'image')\n",
    "    cv.line(img, (x1, y1), (x2, y2), (R, B, G), thk)\n",
    "    cv.imshow('image1', img)\n",
    "\n",
    "    k = cv.waitKey(1)\n",
    "    if k == ord('q'):\n",
    "        break\n",
    "cv.destroyAllWindows()\n"
   ]
  },
  {
   "cell_type": "markdown",
   "metadata": {},
   "source": [
    "Q3make trackbar to control position,radius and color of circle in image 500*500\n",
    "rgb.\n"
   ]
  },
  {
   "cell_type": "code",
   "execution_count": 17,
   "metadata": {},
   "outputs": [],
   "source": [
    "cv.namedWindow(\"image\")\n",
    "\n",
    "\n",
    "def nothing(x):\n",
    "    pass\n",
    "\n",
    "\n",
    "cv.createTrackbar('x', 'image', 0, 499, nothing)\n",
    "cv.createTrackbar('y', 'image', 0, 499, nothing)\n",
    "cv.createTrackbar('R', 'image', 0, 255, nothing)\n",
    "cv.createTrackbar('G', 'image', 0, 255, nothing)\n",
    "cv.createTrackbar('B', 'image', 0, 499, nothing)\n",
    "cv.createTrackbar('radius', 'image', 0, 500, nothing)\n",
    "cv.createTrackbar('thick', 'image', 1, 10, nothing)\n",
    "while True:\n",
    "    img = np.zeros((500, 500, 3), np.uint8)\n",
    "    cx = cv.getTrackbarPos('x', 'image')\n",
    "    cy = cv.getTrackbarPos('y', 'image')\n",
    "    radius = cv.getTrackbarPos('radius', 'image')\n",
    "    R = cv.getTrackbarPos('R', 'image')\n",
    "    G = cv.getTrackbarPos('G', 'image')\n",
    "    B = cv.getTrackbarPos('B', 'image')\n",
    "    thk = cv.getTrackbarPos('thick', 'image')\n",
    "    cv.circle(img, (cx, cy), radius, (R, G, B), thk)\n",
    "    cv.imshow('im2', img)\n",
    "    k = cv.waitKey(1)\n",
    "    if k == ord('q'):\n",
    "        break\n",
    "cv.destroyAllWindows()\n"
   ]
  },
  {
   "cell_type": "markdown",
   "metadata": {},
   "source": [
    "Q4 create image 800*800 rgb write a word “Hello”with red color and draw yellow\n",
    "rectangle on border of word"
   ]
  },
  {
   "cell_type": "code",
   "execution_count": 24,
   "metadata": {},
   "outputs": [
    {
     "data": {
      "text/plain": [
       "<matplotlib.image.AxesImage at 0x295d028fca0>"
      ]
     },
     "execution_count": 24,
     "metadata": {},
     "output_type": "execute_result"
    },
    {
     "data": {
      "image/png": "[encoded data removed]",
      "text/plain": [
       "<Figure size 432x288 with 1 Axes>"
      ]
     },
     "metadata": {
      "needs_background": "light"
     },
     "output_type": "display_data"
    }
   ],
   "source": [
    "img=np.zeros((800,800,3),np.uint8)\n",
    "font=cv.fastAtan2\n",
    "font2=cv.FONT_ITALIC\n",
    "cv.putText(img,\"Hello \",(500,500),font2,3.7,(255,0,0),10)\n",
    "cv.rectangle(img,(500,500),(800,400),(255,255,0),3)\n",
    "plt.imshow(img)"
   ]
  }
 ],
 "metadata": {
  "kernelspec": {
   "display_name": "Python 3.10.7 64-bit",
   "language": "python",
   "name": "python3"
  },
  "language_info": {
   "codemirror_mode": {
    "name": "ipython",
    "version": 3
   },
   "file_extension": ".py",
   "mimetype": "text/x-python",
   "name": "python",
   "nbconvert_exporter": "python",
   "pygments_lexer": "ipython3",
   "version": "3.10.7"
  },
  "orig_nbformat": 4,
  "vscode": {
   "interpreter": {
    "hash": "753a2e432f454fb7145beb6d4dbf4a82a04f4ac881248629a3a9f2661d72da6c"
   }
  }
 },
 "nbformat": 4,
 "nbformat_minor": 2
}

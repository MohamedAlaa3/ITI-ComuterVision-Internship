{
 "cells": [
  {
   "cell_type": "code",
   "execution_count": 1,
   "metadata": {},
   "outputs": [],
   "source": [
    "import numpy as np\n",
    "import cv2 as cv\n",
    "from matplotlib import pyplot as plt"
   ]
  },
  {
   "cell_type": "code",
   "execution_count": 2,
   "metadata": {},
   "outputs": [],
   "source": [
    "import math\n",
    "def a (theta, XC, YC, rad):\n",
    "        \n",
    " \n",
    "            thRadian = theta * math.pi / 180\n",
    "            pX = rad * math.cos(thRadian) + XC\n",
    "            pY = rad * math.sin(thRadian) + YC\n",
    "            return pX, pY"
   ]
  },
  {
   "cell_type": "code",
   "execution_count": 3,
   "metadata": {},
   "outputs": [],
   "source": [
    "\n",
    "        \n",
    "theta= 0.0\n",
    "while True:\n",
    "    img=np.zeros((500,500,3),np.uint8)\n",
    "\n",
    "    cv.circle(img,(100,100),100,(0,0,100),3)\n",
    "\n",
    "    px, py= a(theta, 100, 100, 100)\n",
    "    px1 =int(px)\n",
    "    py1 =int(py)\n",
    "    cv.line(img,(100,100),(px1, py1),(0,0,255),3)\n",
    "    cv.imshow('my_image',img)\n",
    "    theta= theta+1\n",
    "\n",
    "    k=cv.waitKey(1)\n",
    "    if k== ord('q'):\n",
    "        break\n",
    "cv.destroyAllWindows()"
   ]
  }
 ],
 "metadata": {
  "kernelspec": {
   "display_name": "Python 3.9.7 ('base')",
   "language": "python",
   "name": "python3"
  },
  "language_info": {
   "codemirror_mode": {
    "name": "ipython",
    "version": 3
   },
   "file_extension": ".py",
   "mimetype": "text/x-python",
   "name": "python",
   "nbconvert_exporter": "python",
   "pygments_lexer": "ipython3",
   "version": "3.9.7"
  },
  "orig_nbformat": 4,
  "vscode": {
   "interpreter": {
    "hash": "c292393aed7afb63e607e18fc9f32342f268475c7ca7381e1f42eb6487043ea4"
   }
  }
 },
 "nbformat": 4,
 "nbformat_minor": 2
}

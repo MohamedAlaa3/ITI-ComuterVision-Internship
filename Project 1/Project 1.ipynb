{
 "cells": [
  {
   "cell_type": "code",
   "execution_count": 332,
   "metadata": {},
   "outputs": [],
   "source": [
    "import numpy as np\n",
    "import cv2 as cv\n",
    "from matplotlib import pyplot as plt\n",
    "import math\n"
   ]
  },
  {
   "cell_type": "code",
   "execution_count": 333,
   "metadata": {},
   "outputs": [
    {
     "name": "stdout",
     "output_type": "stream",
     "text": [
      "Current DateTime: 2022-09-25 05:48:21.284098\n",
      "Current Time: 05:48:21.284098\n",
      "<class 'time.struct_time'>\n"
     ]
    }
   ],
   "source": [
    "import time\n",
    "\n",
    "print('Current DateTime:', now)\n",
    "\n",
    "print('Current Time:', now.time())\n",
    "t = time.localtime(time.time())\n",
    "print(type(t))"
   ]
  },
  {
   "cell_type": "code",
   "execution_count": 334,
   "metadata": {},
   "outputs": [],
   "source": [
    "import time\n",
    "now = datetime.now()\n",
    "a = str(now.time())\n",
    "x = datetime.strptime(a,'%H:%M:%S.%f')\n",
    "x.second\n",
    "sec= x.second +(x.microsecond/1000000)\n"
   ]
  },
  {
   "cell_type": "code",
   "execution_count": 335,
   "metadata": {},
   "outputs": [],
   "source": [
    "def Static(img):\n",
    "    font= cv.FONT_ITALIC\n",
    "    \n",
    "    \n",
    "    \n",
    "    ct=6\n",
    "\n",
    "\n",
    "    for i in range(1,61):\n",
    "            xh, yh= a(ct+270, 200, 300, 150)\n",
    "            cv.putText(img,\".\",(int(xh), int(yh)),font,1,(50,255,255),3)\n",
    "            ct=ct+6\n",
    "    ct=30\n",
    "    for i in range(1,13):\n",
    "            \n",
    "            xh, yh= a(ct+270, 200, 300, 150)\n",
    "\n",
    "            cv.putText(img,\".\",(int(xh), int(yh)),font,1,(255,0,0),3)\n",
    "            xh, yh= a(ct+270, 200, 300, 160)\n",
    "            cv.putText(img,str(i),(int(xh), int(yh)),font,1,(0,0,255),1)\n",
    "\n",
    "            ct=ct+30\n",
    "  \n",
    "    \n",
    "    "
   ]
  },
  {
   "cell_type": "code",
   "execution_count": 336,
   "metadata": {},
   "outputs": [],
   "source": [
    "def a (theta, XC, YC, rad):\n",
    "        \n",
    " \n",
    "            thRadian = theta * math.pi / 180\n",
    "            pX = rad * math.cos(thRadian) + XC\n",
    "            pY = rad * math.sin(thRadian) + YC\n",
    "            return pX, pY"
   ]
  },
  {
   "cell_type": "code",
   "execution_count": 337,
   "metadata": {},
   "outputs": [],
   "source": [
    "import time\n",
    "font= cv.FONT_ITALIC\n",
    "\n",
    "\n",
    "        \n",
    "thetaS= 0.0\n",
    "while True:\n",
    "    \n",
    "\n",
    "    img=np.zeros((500,500,3),np.uint8)\n",
    "\n",
    "    now = datetime.now()\n",
    "    date= str(now.date())\n",
    "    a2 = str(now.time())\n",
    "    cv.putText(img,a2,(10, 50),font,1,(100,200,100),1)\n",
    "    cv.putText(img,date,(10, 100),font,1,(100,200,100),1)\n",
    "\n",
    "    x = datetime.strptime(a2,'%H:%M:%S.%f')\n",
    "    sec= x.second +(x.microsecond/1000000)\n",
    "    min= x.minute+ sec/60\n",
    "    hour= x.hour + min/60\n",
    "    \n",
    "    thetam= min*6+270\n",
    "    thetah= hour*30+270    \n",
    "    thetaS= sec*6+270\n",
    "    \n",
    "    if(thetaS> 360):\n",
    "        thetaS= thetaS-360\n",
    "    \n",
    "    if(thetam> 360):\n",
    "        thetam= thetam-360\n",
    "    \n",
    "    if(thetah> 360):\n",
    "        thetah= thetah-360    \n",
    "\n",
    "    cv.circle(img,(200,300),150,(100,0,100),3)\n",
    "    xs, ys= a(thetaS, 200, 300, 125)\n",
    "    xm, ym= a(thetam, 200, 300, 100)\n",
    "    xh, yh= a(thetah, 200, 300, 50)\n",
    "\n",
    "\n",
    "    \n",
    "    cv.line(img,(200,300),(int(xs), int(ys)),(0,0,255),1)\n",
    "    cv.line(img,(200,300),(int(xm), int(ym)),(0,255,255),2)\n",
    "    cv.line(img,(200,300),(int(xh), int(yh)),(50,0,255),3)\n",
    "    \n",
    "    Static(img)\n",
    "\n",
    "\n",
    "    \n",
    "    \n",
    "    \n",
    "    \n",
    "    \n",
    "    \n",
    "    cv.imshow('my_image',img)\n",
    "    #theta= theta+1\n",
    "\n",
    "    k=cv.waitKey(1)\n",
    "    if k== ord('q'):\n",
    "        break\n",
    "cv.destroyAllWindows()"
   ]
  },
  {
   "cell_type": "code",
   "execution_count": null,
   "metadata": {},
   "outputs": [],
   "source": []
  }
 ],
 "metadata": {
  "kernelspec": {
   "display_name": "Python 3.9.7 ('base')",
   "language": "python",
   "name": "python3"
  },
  "language_info": {
   "codemirror_mode": {
    "name": "ipython",
    "version": 3
   },
   "file_extension": ".py",
   "mimetype": "text/x-python",
   "name": "python",
   "nbconvert_exporter": "python",
   "pygments_lexer": "ipython3",
   "version": "3.9.7"
  },
  "orig_nbformat": 4,
  "vscode": {
   "interpreter": {
    "hash": "c292393aed7afb63e607e18fc9f32342f268475c7ca7381e1f42eb6487043ea4"
   }
  }
 },
 "nbformat": 4,
 "nbformat_minor": 2
}

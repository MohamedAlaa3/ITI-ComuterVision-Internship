{
 "cells": [
  {
   "cell_type": "code",
   "execution_count": null,
   "metadata": {},
   "outputs": [],
   "source": [
    "import cv2\n",
    "import numpy as np"
   ]
  },
  {
   "cell_type": "code",
   "execution_count": null,
   "metadata": {},
   "outputs": [],
   "source": [
    "import matplotlib.pyplot as plt\n",
    "from PIL import Image"
   ]
  },
  {
   "cell_type": "markdown",
   "metadata": {},
   "source": [
    "Q1 load the following image and make red rectangle around face and write below\n",
    "rectangle “Cat” with yellow color."
   ]
  },
  {
   "cell_type": "code",
   "execution_count": null,
   "metadata": {},
   "outputs": [],
   "source": [
    "img = cv2.imread('original.png', flags=cv2.IMREAD_COLOR) "
   ]
  },
  {
   "cell_type": "code",
   "execution_count": null,
   "metadata": {},
   "outputs": [],
   "source": [
    "img = cv2.imread('original.png', flags=cv2.IMREAD_COLOR) \n",
    "cv2.rectangle(img,(800,200),(1500,800),(255,0,0),3)\n",
    "font=cv2.FONT_HERSHEY_SIMPLEX\n",
    "font2=cv2.FONT_HERSHEY_COMPLEX\n",
    "cv2.putText(img,\"Cat\",(1000,900),font2,4,(255,255,0),10)\n",
    "plt.imshow(img)\n",
    "\n"
   ]
  },
  {
   "cell_type": "markdown",
   "metadata": {},
   "source": [
    "#Q2 load the following image and apply sharpen filter.\n",
    "“write your observation”\n",
    "image"
   ]
  },
  {
   "cell_type": "code",
   "execution_count": null,
   "metadata": {},
   "outputs": [],
   "source": [
    "# load the image into system memory\n",
    "img = cv2.imread('blurred.png', flags=cv2.IMREAD_COLOR) "
   ]
  },
  {
   "cell_type": "code",
   "execution_count": null,
   "metadata": {},
   "outputs": [],
   "source": [
    "# display the image to the screen\n",
    "cv2.imshow('AV CV- Winter Wonder', img)\n",
    "cv2.waitKey()\n",
    "cv2.destroyAllWindows()"
   ]
  },
  {
   "cell_type": "code",
   "execution_count": null,
   "metadata": {},
   "outputs": [],
   "source": [
    "kernel = np.array([[-1, -1, -1],\n",
    "                   [-1,9,-1],\n",
    "                   [-1, -1, -1]])\n",
    "image_sharp = cv2.filter2D(src=image, ddepth=-1, kernel=kernel)\n",
    "cv2.imshow('AV CV- Winter Wonder Sharpened', image_sharp)\n",
    "cv2.waitKey()\n",
    "cv2.destroyAllWindows() "
   ]
  },
  {
   "cell_type": "markdown",
   "metadata": {},
   "source": [
    "#Q3load the following image and apply blur filter"
   ]
  },
  {
   "cell_type": "code",
   "execution_count": null,
   "metadata": {},
   "outputs": [],
   "source": [
    "kernel1 = np.ones((5,5),np.float32)/25\n",
    "dst1 = cv2.filter2D(img,-1,kernel1)\n",
    "\n",
    "s = 55\n",
    "kernel2 = np.ones((s,s),np.float32)/(s*s)\n",
    "dst2 = cv2.filter2D(img,-1,kernel2)\n",
    "\n",
    "f, (ax0, ax1, ax2) = plt.subplots(1, 3, figsize=(30,15))\n",
    "ax0.imshow(img)\n",
    "ax1.imshow(dst1)\n",
    "ax2.imshow(dst2)"
   ]
  }
 ],
 "metadata": {
  "kernelspec": {
   "display_name": "Python 3.9.7 ('base')",
   "language": "python",
   "name": "python3"
  },
  "language_info": {
   "codemirror_mode": {
    "name": "ipython",
    "version": 3
   },
   "file_extension": ".py",
   "mimetype": "text/x-python",
   "name": "python",
   "nbconvert_exporter": "python",
   "pygments_lexer": "ipython3",
   "version": "3.9.7"
  },
  "orig_nbformat": 4,
  "vscode": {
   "interpreter": {
    "hash": "c292393aed7afb63e607e18fc9f32342f268475c7ca7381e1f42eb6487043ea4"
   }
  }
 },
 "nbformat": 4,
 "nbformat_minor": 2
}

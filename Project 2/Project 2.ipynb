{
 "cells": [
  {
   "cell_type": "code",
   "execution_count": 19,
   "metadata": {},
   "outputs": [],
   "source": [
    "import numpy as np\n",
    "import cv2 as cv\n",
    "from matplotlib import pyplot as plt\n",
    "import random as rd"
   ]
  },
  {
   "cell_type": "code",
   "execution_count": 20,
   "metadata": {},
   "outputs": [],
   "source": [
    "def darwsnakepoint(img, points):\n",
    "    ct=0;\n",
    "    for i in points:\n",
    "        \n",
    "\n",
    "        img[i[0],i[1]]=(0,0,255)\n",
    "        if ct==0:\n",
    "            img[i[0],i[1]]=(255,192,203)\n",
    "        ct= ct +1\n"
   ]
  },
  {
   "cell_type": "code",
   "execution_count": 21,
   "metadata": {},
   "outputs": [],
   "source": [
    "def GenrateTargetPoint(img) :\n",
    "    while(True):\n",
    "        x= rd.randrange(0,200)\n",
    "        y= rd.randrange(0,200)\n",
    "        if(img[x,y]==[0,0,0]).all():\n",
    "            img[x,y]=(255,255,0)\n",
    "            return x, y\n",
    "                    \n",
    "    \n",
    "            \n",
    "    "
   ]
  },
  {
   "cell_type": "code",
   "execution_count": 22,
   "metadata": {},
   "outputs": [],
   "source": [
    "class cell:\n",
    "    pos= [0,0]\n",
    "    cost= 0\n",
    "    id= 'a'"
   ]
  },
  {
   "cell_type": "code",
   "execution_count": 23,
   "metadata": {},
   "outputs": [
    {
     "name": "stdout",
     "output_type": "stream",
     "text": [
      "[[5, 5]]\n"
     ]
    }
   ],
   "source": [
    "img=np.zeros((200,200,3),np.uint8)\n",
    "Spoints= [[50,50]]\n",
    "    \n",
    "Spoints.insert(0,[5,5]) #add in first\n",
    "del Spoints[-1] #remove last item\n",
    "print(Spoints)\n",
    "img= darwsnakepoint(img, Spoints)\n",
    "\n",
    "\n",
    "\n",
    "#img[0][0]\n",
    "#plt.imshow(img)\n",
    "\n"
   ]
  },
  {
   "cell_type": "code",
   "execution_count": 24,
   "metadata": {},
   "outputs": [],
   "source": [
    "def smove(img, Spoints, Tx, Ty):\n",
    "    if Spoints[0][0]< Tx and( (img[Spoints[0][0]+1,Spoints[0][1]]==(0,0,0)).all() or (img[Spoints[0][0]+1,Spoints[0][1]]==(255,0,0)).all()   ) and Spoints[0][0]+1 <=199:\n",
    "        Spoints.insert(0,[Spoints[0][0]+1,Spoints[0][1]])\n",
    "        if Spoints[0][0]== Tx and Spoints[0][1]== Ty:\n",
    "            Tx, Ty =GenrateTargetPoint(img)\n",
    "        else:\n",
    "            del Spoints[-1]\n",
    "    elif Spoints[0][0]> Tx and ((img[Spoints[0][0]-1,Spoints[0][1]]==(0,0,0)).all() or (img[Spoints[0][0]-1,Spoints[0][1]]==(255,0,0)).all()) and Spoints[0][0]-1 >= 0 :\n",
    "        Spoints.insert(0,[Spoints[0][0]-1,Spoints[0][1]])\n",
    "        if Spoints[0][0]== Tx and Spoints[0][1]== Ty:\n",
    "            Tx, Ty =GenrateTargetPoint(img)\n",
    "        else:\n",
    "            del Spoints[-1]\n",
    "    elif Spoints[0][1]> Ty and ((img[Spoints[0][0],Spoints[0][1]-1]==(0,0,0)).all() or (img[Spoints[0][0],Spoints[0][1]-1]==(255,0,0)).all()) and Spoints[0][1]-1 >= 0:\n",
    "        Spoints.insert(0,[Spoints[0][0],Spoints[0][1]-1])\n",
    "        if Spoints[0][0]== Tx and Spoints[0][1]== Ty:\n",
    "            Tx, Ty =GenrateTargetPoint(img)\n",
    "        else:\n",
    "            del Spoints[-1]\n",
    "    elif Spoints[0][1]< Ty and ((img[Spoints[0][0],Spoints[0][1]+1]==(0,0,0)).all() or (img[Spoints[0][0],Spoints[0][1]+1]==(255,0,0)).all()) and Spoints[0][1]+1 <=199:\n",
    "        Spoints.insert(0,[Spoints[0][0],Spoints[0][1]+1])\n",
    "        if Spoints[0][0]== Tx and Spoints[0][1]== Ty:\n",
    "            Tx, Ty =GenrateTargetPoint(img)\n",
    "        else:\n",
    "            del Spoints[-1]\n",
    "    elif  ((img[Spoints[0][0]+1,Spoints[0][1]]==(0,0,0)).all() or (img[Spoints[0][0]+1,Spoints[0][1]]==(255,0,0)).all()) and Spoints[0][0]+1 <=199:\n",
    "        Spoints.insert(0,[Spoints[0][0]+1,Spoints[0][1]])\n",
    "        if Spoints[0][0]== Tx and Spoints[0][1]== Ty:\n",
    "            Tx, Ty =GenrateTargetPoint(img)\n",
    "        else:\n",
    "            del Spoints[-1]\n",
    "    elif  ((img[Spoints[0][0]-1,Spoints[0][1]]==(0,0,0)).all() or (img[Spoints[0][0]-1,Spoints[0][1]]==(255,0,0)).all()) and Spoints[0][0]-1 >= 0 :\n",
    "        Spoints.insert(0,[Spoints[0][0]-1,Spoints[0][1]])\n",
    "        if Spoints[0][0]== Tx and Spoints[0][1]== Ty:\n",
    "            Tx, Ty =GenrateTargetPoint(img)\n",
    "        else:\n",
    "            del Spoints[-1]\n",
    "    elif   ((img[Spoints[0][0],Spoints[0][1]-1]==(0,0,0)).all() or (img[Spoints[0][0],Spoints[0][1]-1]==(255,0,0)).all()) and Spoints[0][1]-1 >= 0:\n",
    "        Spoints.insert(0,[Spoints[0][0],Spoints[0][1]-1])\n",
    "        if Spoints[0][0]== Tx and Spoints[0][1]== Ty:\n",
    "            Tx, Ty =GenrateTargetPoint(img)\n",
    "        else:\n",
    "            del Spoints[-1]\n",
    "    elif  ((img[Spoints[0][0],Spoints[0][1]+1]==(0,0,0)).all() or (img[Spoints[0][0],Spoints[0][1]+1]==(255,0,0)).all()) and Spoints[0][1]+1 <=199:\n",
    "        Spoints.insert(0,[Spoints[0][0],Spoints[0][1]+1])\n",
    "        if Spoints[0][0]== Tx and Spoints[0][1]== Ty:\n",
    "            Tx, Ty =GenrateTargetPoint(img)\n",
    "        else:\n",
    "            del Spoints[-1]\n",
    "    else:\n",
    "        print(\"end Game\")\n",
    "    return Tx, Ty\n",
    "        \n",
    "        "
   ]
  },
  {
   "cell_type": "code",
   "execution_count": 25,
   "metadata": {},
   "outputs": [],
   "source": [
    "import time\n",
    "Spoints= [[0,0]]\n",
    "\n",
    "img=np.zeros((200,200,3),np.uint8)\n",
    "Tx, Ty= GenrateTargetPoint(img)\n",
    "\n",
    "\n",
    "\n",
    "while True:\n",
    "    img=np.zeros((200,200,3),np.uint8)\n",
    "    darwsnakepoint(img,Spoints)\n",
    "    img[Tx,Ty]=(255,0,0)\n",
    "    Tx,Ty=smove(img, Spoints, Tx, Ty)\n",
    "\n",
    "    \n",
    "    \n",
    "    \n",
    "    \n",
    "    \n",
    "    cv.imshow('my_image', img[:,:,::-1]) #BGR\n",
    "    \n",
    "    \n",
    "\n",
    "    k = cv.waitKey(1)\n",
    "    if k == ord('q'):\n",
    "        break\n",
    "cv.destroyAllWindows()"
   ]
  }
 ],
 "metadata": {
  "kernelspec": {
   "display_name": "Python 3.9.7 ('base')",
   "language": "python",
   "name": "python3"
  },
  "language_info": {
   "codemirror_mode": {
    "name": "ipython",
    "version": 3
   },
   "file_extension": ".py",
   "mimetype": "text/x-python",
   "name": "python",
   "nbconvert_exporter": "python",
   "pygments_lexer": "ipython3",
   "version": "3.9.7"
  },
  "orig_nbformat": 4,
  "vscode": {
   "interpreter": {
    "hash": "c292393aed7afb63e607e18fc9f32342f268475c7ca7381e1f42eb6487043ea4"
   }
  }
 },
 "nbformat": 4,
 "nbformat_minor": 2
}
